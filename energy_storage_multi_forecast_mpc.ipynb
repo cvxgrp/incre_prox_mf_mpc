{
 "cells": [
  {
   "cell_type": "code",
   "execution_count": 1,
   "id": "4566e908",
   "metadata": {},
   "outputs": [],
   "source": [
    "import numpy as np\n",
    "import cvxpy as cp\n",
    "import matplotlib.pyplot as plt\n",
    "import time as time\n",
    "import csv"
   ]
  },
  {
   "cell_type": "code",
   "execution_count": 2,
   "id": "158f41e0",
   "metadata": {},
   "outputs": [],
   "source": [
    "train_days = 260 * 7\n",
    "train_hours = train_days * 24\n",
    "test_hours = 24 * 7 * 8"
   ]
  },
  {
   "cell_type": "code",
   "execution_count": 3,
   "id": "46ba8cbe",
   "metadata": {},
   "outputs": [],
   "source": [
    "T = 24\n",
    "u_max = 10\n",
    "Q = 50\n",
    "q_0 = Q / 2"
   ]
  },
  {
   "cell_type": "code",
   "execution_count": 21,
   "id": "f6d6c037",
   "metadata": {},
   "outputs": [],
   "source": [
    "repeat_times = 1"
   ]
  },
  {
   "cell_type": "markdown",
   "id": "a4854803",
   "metadata": {},
   "source": [
    "# load forecast signals and samples"
   ]
  },
  {
   "cell_type": "code",
   "execution_count": 5,
   "id": "38e81b60",
   "metadata": {},
   "outputs": [],
   "source": [
    "forecast_signals = np.load(\"data/forecast_signals.npy\")"
   ]
  },
  {
   "cell_type": "code",
   "execution_count": 6,
   "id": "8772c5a3",
   "metadata": {},
   "outputs": [],
   "source": [
    "price_data = np.load(\"data/price_data.npy\")"
   ]
  },
  {
   "cell_type": "code",
   "execution_count": 7,
   "id": "f0364728",
   "metadata": {},
   "outputs": [],
   "source": [
    "scenario_samples = np.load(\"data/scenario_samples.npy\")"
   ]
  },
  {
   "cell_type": "markdown",
   "id": "390eef83",
   "metadata": {},
   "source": [
    "# Incremental Proximal Algorithm"
   ]
  },
  {
   "cell_type": "code",
   "execution_count": 8,
   "id": "baa279db",
   "metadata": {},
   "outputs": [],
   "source": [
    "def generate_subp(q_t, t, minibatch_size, u_max, Q):\n",
    "    u_var = cp.Variable()\n",
    "    z_var = cp.Variable((T - 1, minibatch_size))\n",
    "    p_param = cp.Parameter((T - 1, minibatch_size), nonneg=True)\n",
    "    one_over_c_k = cp.Parameter(nonneg=True)\n",
    "    u_prev = cp.Parameter()\n",
    "    \n",
    "    linear = price_data[t] * u_var + cp.sum(cp.multiply(p_param, z_var), axis=0)\n",
    "    ell_one = price_data[t] * cp.abs(u_var) + cp.sum(cp.multiply(p_param, cp.abs(z_var)), axis=0)\n",
    "        \n",
    "    cost = cp.sum(linear + 0.075 * ell_one) / minibatch_size\n",
    "        \n",
    "    constr = [cp.abs(u_var) <= u_max, cp.abs(z_var) <= u_max, \n",
    "              q_t + u_var >= 0, q_t + u_var <= Q,\n",
    "              q_t + u_var + cp.cumsum(z_var, axis=0) >= 0,\n",
    "              q_t + u_var + cp.cumsum(z_var, axis=0) <= Q,\n",
    "              q_t + u_var + cp.sum(z_var, axis=0) == Q / 2]\n",
    "    \n",
    "    subp = cp.Problem(cp.Minimize(cost + 0.5 * one_over_c_k * cp.sum_squares(u_var - u_prev)), constr)\n",
    "    \n",
    "    return subp, u_var, p_param, one_over_c_k, u_prev"
   ]
  },
  {
   "cell_type": "code",
   "execution_count": 9,
   "id": "6d3e30ae",
   "metadata": {},
   "outputs": [],
   "source": [
    "def generate_subp_dpp(q_t, t, minibatch_size, u_max, Q):\n",
    "    u_var = cp.Variable()\n",
    "    z_var = cp.Variable((T - 1, minibatch_size))\n",
    "    p_param = cp.Parameter((T - 1, minibatch_size), nonneg=True)\n",
    "    one_over_sqrt_c_k = cp.Parameter(nonneg=True)\n",
    "    u_prev_over_sqrt_c_k = cp.Parameter()\n",
    "    \n",
    "    linear = price_data[t] * u_var + cp.sum(cp.multiply(p_param, z_var), axis=0)\n",
    "    ell_one = price_data[t] * cp.abs(u_var) + cp.sum(cp.multiply(p_param, cp.abs(z_var)), axis=0)\n",
    "        \n",
    "    cost = cp.sum(linear + 0.075 * ell_one) / minibatch_size\n",
    "        \n",
    "    constr = [cp.abs(u_var) <= u_max, cp.abs(z_var) <= u_max, \n",
    "              q_t + u_var >= 0, q_t + u_var <= Q,\n",
    "              q_t + u_var + cp.cumsum(z_var, axis=0) >= 0,\n",
    "              q_t + u_var + cp.cumsum(z_var, axis=0) <= Q,\n",
    "              q_t + u_var + cp.sum(z_var, axis=0) == Q / 2]\n",
    "    \n",
    "    prox_term = 0.5 * cp.sum_squares(one_over_sqrt_c_k * u_var - u_prev_over_sqrt_c_k)\n",
    "    \n",
    "    subp = cp.Problem(cp.Minimize(cost + prox_term), constr)\n",
    "    \n",
    "    return subp, u_var, p_param, one_over_sqrt_c_k, u_prev_over_sqrt_c_k"
   ]
  },
  {
   "cell_type": "code",
   "execution_count": 10,
   "id": "fadecde3",
   "metadata": {},
   "outputs": [],
   "source": [
    "def MPC(t, q_t, forecast, u_max, Q, solver):\n",
    "    \n",
    "    subp, u_var, p_param, one_over_c_k, u_prev = generate_subp(q_t, t, 1, u_max, Q)\n",
    "    \n",
    "    p_param.value = forecast.reshape((T - 1, 1))\n",
    "    one_over_c_k.value = 0\n",
    "    u_prev.value = 0\n",
    "    \n",
    "    subp.solve(solver=solver)\n",
    "\n",
    "    return u_var.value"
   ]
  },
  {
   "cell_type": "code",
   "execution_count": 11,
   "id": "46a5ef63",
   "metadata": {},
   "outputs": [],
   "source": [
    "def incre_prox_alg(t, q_t, price, forecast, u_max, Q, c=1, init_val=0, max_iter=None, minibatch_size=1, \n",
    "                   verbose=False, use_MPC_init=True, no_prox=False, solver=\"ECOS\"):\n",
    "    time0 = time.time()\n",
    "    _, n_samples = price.shape\n",
    "    minibatch_size = min(minibatch_size, n_samples)\n",
    "    \n",
    "    if max_iter is None:\n",
    "        max_iter = n_samples // minibatch_size\n",
    "        \n",
    "    if use_MPC_init:\n",
    "        u_k = MPC(t, q_t, forecast, u_max, Q, solver)\n",
    "    else:\n",
    "        u_k = init_val\n",
    "    \n",
    "    if (not no_prox) and max_iter > 1:\n",
    "        subp, u_var, p_param, one_over_sqrt_c_k_param, u_prev_over_sqrt_c_k_param = \\\n",
    "        generate_subp_dpp(q_t, t, minibatch_size, u_max, Q)\n",
    "    else:\n",
    "        subp, u_var, p_param, one_over_c_k, u_prev = generate_subp(q_t, t, minibatch_size, u_max, Q)\n",
    "    \n",
    "    minibatch_num = n_samples // minibatch_size\n",
    "    \n",
    "    for iter_idx in range(0, max_iter):\n",
    "        minibatch_idx = iter_idx % minibatch_num\n",
    "        sample_idxs = np.arange(minibatch_idx * minibatch_size, (minibatch_idx + 1) * minibatch_size)\n",
    "        p_param.value = price[:, sample_idxs]\n",
    "        \n",
    "        if no_prox:\n",
    "            one_over_c_k.value = 0\n",
    "            u_prev.value = 0\n",
    "        else:\n",
    "            if max_iter > 1:\n",
    "                one_over_sqrt_c_k_param.value = np.power((iter_idx + 1) / c, 0.5)\n",
    "                u_prev_over_sqrt_c_k_param.value = u_k * np.power((iter_idx + 1) / c, 0.5)\n",
    "            else:\n",
    "                one_over_c_k.value = np.power((iter_idx + 1) / c, 0.5)\n",
    "                u_prev.value = u_k\n",
    "                    \n",
    "        update_success = True\n",
    "#         try:\n",
    "        subp.solve(solver=solver)\n",
    "#         except:\n",
    "#             print(subp.status)\n",
    "#             update_success = False\n",
    "        \n",
    "        if verbose:\n",
    "            print(\"iter =\", iter_idx, \"u =\", u_var.value,\n",
    "                  \"incre =\", np.linalg.norm(u_var.value - u_k), \n",
    "                  \"time elapsed =\", time.time() - time0)\n",
    "        \n",
    "        if update_success:\n",
    "            if np.linalg.norm(u_var.value - u_k) <= 1e-18:\n",
    "                break\n",
    "            u_k = u_var.value\n",
    "    \n",
    "    return u_k"
   ]
  },
  {
   "cell_type": "code",
   "execution_count": 12,
   "id": "2586013b",
   "metadata": {},
   "outputs": [],
   "source": [
    "def eval_policy(u):\n",
    "    linear = price_data[train_hours: train_hours + len(u)].dot(u)\n",
    "    quad = np.sum(np.square(u))\n",
    "    ell_one = price_data[train_hours: train_hours + len(u)].dot(np.abs(u))\n",
    "    return (linear + 0.075 * ell_one) / len(u)"
   ]
  },
  {
   "cell_type": "markdown",
   "id": "a83ee4c3",
   "metadata": {},
   "source": [
    "# run single-forecast MPC"
   ]
  },
  {
   "cell_type": "code",
   "execution_count": 13,
   "id": "93b304c4",
   "metadata": {},
   "outputs": [
    {
     "name": "stderr",
     "output_type": "stream",
     "text": [
      "/Users/xinyueshen/anaconda3/lib/python3.7/site-packages/cvxpy/reductions/solvers/solving_chain.py:167: UserWarning: You are solving a parameterized problem that is not DPP. Because the problem is not DPP, subsequent solves will not be faster than the first one. For more information, see the documentation on Discplined Parametrized Programming, at\n",
      "\thttps://www.cvxpy.org/tutorial/advanced/index.html#disciplined-parametrized-programming\n",
      "  warnings.warn(dpp_error_msg)\n"
     ]
    },
    {
     "name": "stdout",
     "output_type": "stream",
     "text": [
      "test hour 23 test day 0 cost  -43.39900614566381 time elasped  0.6419529914855957\n",
      "test hour 47 test day 1 cost  -32.13999786338962 time elasped  1.2272069454193115\n",
      "test hour 71 test day 2 cost  -29.39384974935797 time elasped  1.83821702003479\n",
      "test hour 95 test day 3 cost  -47.890139701389906 time elasped  2.432157039642334\n",
      "test hour 119 test day 4 cost  -55.086748973085236 time elasped  3.0310940742492676\n",
      "test hour 143 test day 5 cost  -50.71085567443943 time elasped  3.599168062210083\n",
      "test hour 167 test day 6 cost  -44.95112411499803 time elasped  4.156747102737427\n",
      "test hour 191 test day 7 cost  -42.46472275710579 time elasped  4.711137056350708\n",
      "test hour 215 test day 8 cost  -39.150422932138085 time elasped  5.261708974838257\n",
      "test hour 239 test day 9 cost  -39.06235284805228 time elasped  5.844763994216919\n",
      "test hour 263 test day 10 cost  -39.903951629850674 time elasped  6.401930093765259\n",
      "test hour 287 test day 11 cost  -40.01665329980018 time elasped  6.992063045501709\n",
      "test hour 311 test day 12 cost  -39.57739288562964 time elasped  7.617391109466553\n",
      "test hour 335 test day 13 cost  -37.91412126619439 time elasped  8.293346166610718\n",
      "test hour 359 test day 14 cost  -39.878241775028954 time elasped  8.904277086257935\n",
      "test hour 383 test day 15 cost  -38.56823068694866 time elasped  9.568032026290894\n",
      "test hour 407 test day 16 cost  -38.11562851077699 time elasped  10.219258069992065\n",
      "test hour 431 test day 17 cost  -39.076991636779766 time elasped  10.924670934677124\n",
      "test hour 455 test day 18 cost  -39.225126024028654 time elasped  11.632928133010864\n",
      "test hour 479 test day 19 cost  -38.63042575516838 time elasped  12.272925853729248\n",
      "test hour 503 test day 20 cost  -38.994872265380664 time elasped  12.851386070251465\n",
      "test hour 527 test day 21 cost  -38.513706585154836 time elasped  13.481745958328247\n",
      "test hour 551 test day 22 cost  -38.18186066606632 time elasped  14.115520000457764\n",
      "test hour 575 test day 23 cost  -37.74422095074401 time elasped  14.748800039291382\n",
      "test hour 599 test day 24 cost  -39.874878153915375 time elasped  15.477178812026978\n",
      "test hour 623 test day 25 cost  -41.434352641124235 time elasped  16.09092092514038\n",
      "test hour 647 test day 26 cost  -40.940176210681166 time elasped  16.748106002807617\n",
      "test hour 671 test day 27 cost  -40.48500279684114 time elasped  17.38661813735962\n",
      "test hour 695 test day 28 cost  -40.064245107061396 time elasped  18.056944847106934\n",
      "test hour 719 test day 29 cost  -39.67759953328385 time elasped  18.68922185897827\n",
      "test hour 743 test day 30 cost  -40.14168851265914 time elasped  19.308895111083984\n",
      "test hour 767 test day 31 cost  -41.70712105115731 time elasped  19.943592071533203\n",
      "test hour 791 test day 32 cost  -41.7070873077232 time elasped  20.53064489364624\n",
      "test hour 815 test day 33 cost  -41.23767823979065 time elasped  21.134864807128906\n",
      "test hour 839 test day 34 cost  -42.762434034696795 time elasped  21.799699068069458\n",
      "test hour 863 test day 35 cost  -42.190078361475116 time elasped  22.451778173446655\n",
      "test hour 887 test day 36 cost  -41.65516913745025 time elasped  23.070132970809937\n",
      "test hour 911 test day 37 cost  -41.852371587248946 time elasped  23.65377688407898\n",
      "test hour 935 test day 38 cost  -41.806206792635386 time elasped  24.321782112121582\n",
      "test hour 959 test day 39 cost  -41.633292507749324 time elasped  24.9529128074646\n",
      "test hour 983 test day 40 cost  -41.263242253992 time elasped  25.551712036132812\n",
      "test hour 1007 test day 41 cost  -41.24199958638552 time elasped  26.191020965576172\n",
      "test hour 1031 test day 42 cost  -41.10481886865357 time elasped  26.84750008583069\n",
      "test hour 1055 test day 43 cost  -40.56165458590416 time elasped  27.499428033828735\n",
      "test hour 1079 test day 44 cost  -40.34744554401938 time elasped  28.092646837234497\n",
      "test hour 1103 test day 45 cost  -40.44447647466081 time elasped  28.70372200012207\n",
      "test hour 1127 test day 46 cost  -40.45618623558347 time elasped  29.301197052001953\n",
      "test hour 1151 test day 47 cost  -40.48948183463951 time elasped  29.91340708732605\n",
      "test hour 1175 test day 48 cost  -40.63220569874654 time elasped  30.569257974624634\n",
      "test hour 1199 test day 49 cost  -40.42445463564038 time elasped  31.188613176345825\n",
      "test hour 1223 test day 50 cost  -40.15987416080307 time elasped  31.83810782432556\n",
      "test hour 1247 test day 51 cost  -39.772988716461086 time elasped  32.51495099067688\n",
      "test hour 1271 test day 52 cost  -39.33302748603853 time elasped  33.1276171207428\n",
      "test hour 1295 test day 53 cost  -39.16469064485117 time elasped  33.768373012542725\n",
      "test hour 1319 test day 54 cost  -38.8054251180798 time elasped  34.45561099052429\n",
      "test hour 1343 test day 55 cost  -38.83426254549946 time elasped  35.087499141693115\n",
      "MPC policy cost = -38.83426254549946 runtime = 35.08784317970276\n"
     ]
    }
   ],
   "source": [
    "q_t = q_0\n",
    "u_MPC = np.zeros(test_hours)\n",
    "t_begin = time.time()\n",
    "for t in range(train_hours, train_hours + test_hours):\n",
    "    hour_idx = t - train_hours\n",
    "    # forecast\n",
    "    forecast_signal = forecast_signals[:, hour_idx]\n",
    "    forecast_price = np.exp(np.exp(forecast_signal))\n",
    "\n",
    "    # set q_t\n",
    "    if hour_idx > 0:\n",
    "        q_t += u_MPC[hour_idx - 1]\n",
    "        \n",
    "    # call MPC solver\n",
    "    u_MPC[hour_idx] = incre_prox_alg(t, q_t, np.zeros((T - 1, 1)), forecast_price, u_max, Q, \n",
    "                                     max_iter=0, use_MPC_init=True)\n",
    "    \n",
    "    if hour_idx % 24 == 23:\n",
    "        print(\"test hour\", hour_idx, \"test day\", hour_idx // 24, \n",
    "              \"cost \", eval_policy(u_MPC[0: hour_idx + 1]),\n",
    "              \"time elasped \", time.time() - t_begin)\n",
    "\n",
    "policy_eval_MPC = eval_policy(u_MPC)\n",
    "print(\"MPC policy cost =\", policy_eval_MPC, \"runtime =\", time.time() - t_begin)"
   ]
  },
  {
   "cell_type": "markdown",
   "id": "94dde3e8",
   "metadata": {},
   "source": [
    "# run MF-MPC"
   ]
  },
  {
   "cell_type": "code",
   "execution_count": 22,
   "id": "fd201e41",
   "metadata": {},
   "outputs": [],
   "source": [
    "batch_sizes = np.array([1, 2, 4, 8, 16, 32]) * 20\n",
    "u_MFMPC = np.zeros((repeat_times, test_hours, len(batch_sizes)))\n",
    "time_MFMPC = np.zeros((repeat_times, len(batch_sizes)))"
   ]
  },
  {
   "cell_type": "code",
   "execution_count": 23,
   "id": "d8b53e4c",
   "metadata": {},
   "outputs": [
    {
     "name": "stdout",
     "output_type": "stream",
     "text": [
      "repeat idx 0\n",
      "  batch size 20\n"
     ]
    },
    {
     "name": "stderr",
     "output_type": "stream",
     "text": [
      "/Users/xinyueshen/anaconda3/lib/python3.7/site-packages/cvxpy/reductions/solvers/solving_chain.py:167: UserWarning: You are solving a parameterized problem that is not DPP. Because the problem is not DPP, subsequent solves will not be faster than the first one. For more information, see the documentation on Discplined Parametrized Programming, at\n",
      "\thttps://www.cvxpy.org/tutorial/advanced/index.html#disciplined-parametrized-programming\n",
      "  warnings.warn(dpp_error_msg)\n"
     ]
    },
    {
     "name": "stdout",
     "output_type": "stream",
     "text": [
      "    test hour 167 test day 6     cost -51.36061079024113     time elasped = 7.74052619934082\n",
      "    test hour 335 test day 13     cost -41.162727369675814     time elasped = 15.35515308380127\n",
      "    test hour 503 test day 20     cost -40.35727149040167     time elasped = 22.664186239242554\n",
      "    test hour 671 test day 27     cost -39.938410886655056     time elasped = 30.319005250930786\n",
      "    test hour 839 test day 34     cost -41.14281501574102     time elasped = 37.63616919517517\n",
      "    test hour 1007 test day 41     cost -39.63379586578742     time elasped = 44.90528202056885\n",
      "    test hour 1175 test day 48     cost -39.27407929359386     time elasped = 52.16205835342407\n",
      "    test hour 1343 test day 55     cost -37.73885365126168     time elasped = 59.45251822471619\n",
      "  batch size idx 0 batch policy cost = -37.73885365126168 runtime = 59.452736139297485\n",
      "  batch size 40\n",
      "    test hour 167 test day 6     cost -51.90173853872613     time elasped = 13.01273798942566\n",
      "    test hour 335 test day 13     cost -43.596778320739716     time elasped = 25.47370481491089\n",
      "    test hour 503 test day 20     cost -41.79731615090668     time elasped = 37.64134216308594\n",
      "    test hour 671 test day 27     cost -41.720385130126225     time elasped = 50.185715198516846\n",
      "    test hour 839 test day 34     cost -43.041052548034884     time elasped = 61.833991050720215\n",
      "    test hour 1007 test day 41     cost -41.253705085899185     time elasped = 73.40151000022888\n",
      "    test hour 1175 test day 48     cost -40.41821734848258     time elasped = 85.15978908538818\n",
      "    test hour 1343 test day 55     cost -38.821244143288595     time elasped = 97.19358897209167\n",
      "  batch size idx 1 batch policy cost = -38.821244143288595 runtime = 97.1939480304718\n",
      "  batch size 80\n",
      "    test hour 167 test day 6     cost -50.20281682102399     time elasped = 22.58422589302063\n",
      "    test hour 335 test day 13     cost -40.17110530645684     time elasped = 44.67037796974182\n",
      "    test hour 503 test day 20     cost -39.12456424741524     time elasped = 66.82787704467773\n",
      "    test hour 671 test day 27     cost -39.4751064952186     time elasped = 89.94832301139832\n",
      "    test hour 839 test day 34     cost -41.35495523364081     time elasped = 113.0569851398468\n",
      "    test hour 1007 test day 41     cost -39.83529892014345     time elasped = 136.2761058807373\n",
      "    test hour 1175 test day 48     cost -39.4793135699991     time elasped = 158.96494483947754\n",
      "    test hour 1343 test day 55     cost -37.94358075972585     time elasped = 182.24594402313232\n",
      "  batch size idx 2 batch policy cost = -37.94358075972585 runtime = 182.24618005752563\n",
      "  batch size 160\n",
      "    test hour 167 test day 6     cost -50.41053011051655     time elasped = 49.632038831710815\n",
      "    test hour 335 test day 13     cost -41.51348876938081     time elasped = 99.2129967212677\n",
      "    test hour 503 test day 20     cost -41.05714855370212     time elasped = 147.55532479286194\n",
      "    test hour 671 test day 27     cost -44.51648708295473     time elasped = 194.04193091392517\n",
      "    test hour 839 test day 34     cost -46.82915246232369     time elasped = 242.63100385665894\n",
      "    test hour 1007 test day 41     cost -44.45460492869806     time elasped = 291.2788667678833\n",
      "    test hour 1175 test day 48     cost -43.44578358754765     time elasped = 340.3117706775665\n",
      "    test hour 1343 test day 55     cost -41.32291978673673     time elasped = 390.46274185180664\n",
      "  batch size idx 3 batch policy cost = -41.32291978673673 runtime = 390.4631669521332\n",
      "  batch size 320\n",
      "    test hour 167 test day 6     cost -52.02983439808341     time elasped = 119.95847177505493\n",
      "    test hour 335 test day 13     cost -41.93658705369053     time elasped = 241.87674069404602\n",
      "    test hour 503 test day 20     cost -41.27394707250699     time elasped = 365.39909386634827\n",
      "    test hour 671 test day 27     cost -44.67908599267285     time elasped = 491.8868520259857\n",
      "    test hour 839 test day 34     cost -46.926175545673615     time elasped = 613.4440367221832\n",
      "    test hour 1007 test day 41     cost -44.58463058050355     time elasped = 733.8927848339081\n",
      "    test hour 1175 test day 48     cost -43.38775269977558     time elasped = 857.665365934372\n",
      "    test hour 1343 test day 55     cost -41.37585539167213     time elasped = 976.710499048233\n",
      "  batch size idx 4 batch policy cost = -41.37585539167213 runtime = 976.7107989788055\n",
      "  batch size 640\n",
      "    test hour 167 test day 6     cost -51.98376297617423     time elasped = 282.5391881465912\n",
      "    test hour 335 test day 13     cost -41.920113283040635     time elasped = 574.384556055069\n"
     ]
    },
    {
     "name": "stderr",
     "output_type": "stream",
     "text": [
      "/Users/xinyueshen/anaconda3/lib/python3.7/site-packages/cvxpy/problems/problem.py:1279: UserWarning: Solution may be inaccurate. Try another solver, adjusting the solver settings, or solve with verbose=True for more information.\n",
      "  \"Solution may be inaccurate. Try another solver, \"\n"
     ]
    },
    {
     "name": "stdout",
     "output_type": "stream",
     "text": [
      "    test hour 503 test day 20     cost -41.47926122978677     time elasped = 866.9309601783752\n",
      "    test hour 671 test day 27     cost -44.793245536364715     time elasped = 1154.3225400447845\n",
      "    test hour 839 test day 34     cost -47.01829237084616     time elasped = 1436.7382371425629\n",
      "    test hour 1007 test day 41     cost -44.6771516683116     time elasped = 1717.79327917099\n",
      "    test hour 1175 test day 48     cost -43.58716156662494     time elasped = 2003.0312941074371\n",
      "    test hour 1343 test day 55     cost -41.884476747297846     time elasped = 2287.342178106308\n",
      "  batch size idx 5 batch policy cost = -41.884476747297846 runtime = 2287.342614173889\n"
     ]
    }
   ],
   "source": [
    "for repeat_idx in range(repeat_times):\n",
    "    print(\"repeat idx\", repeat_idx)\n",
    "    for batch_size_idx in range(0, len(batch_sizes)):\n",
    "        batch_size = batch_sizes[batch_size_idx]\n",
    "        print(\"  batch size\", batch_size)\n",
    "        q_t = q_0\n",
    "\n",
    "        t_begin = time.time()\n",
    "\n",
    "        for t in range(train_hours, train_hours + test_hours):\n",
    "            hour_idx = t - train_hours\n",
    "            # forecast\n",
    "            forecast_signal = forecast_signals[:, hour_idx]\n",
    "            forecast_price = np.exp(np.exp(forecast_signal))\n",
    "    \n",
    "            forecast_error_normal_samples = scenario_samples[repeat_idx, t % (24 * 7), 0: batch_size, :]\n",
    "            normal_samples = np.exp(np.exp(forecast_signal[None, :] + forecast_error_normal_samples).T)\n",
    "\n",
    "            # set q_t\n",
    "            if hour_idx > 0:\n",
    "                q_t += u_MFMPC[repeat_idx, hour_idx - 1, batch_size_idx]   \n",
    "                    \n",
    "            # call solver\n",
    "            u_MFMPC[repeat_idx, hour_idx, batch_size_idx] = incre_prox_alg(t, q_t, normal_samples, \n",
    "                                                                           forecast_price, u_max, Q, \n",
    "                                                                           max_iter=1, use_MPC_init=False, \n",
    "                                                                           no_prox=True, \n",
    "                                                                           minibatch_size=batch_size)\n",
    "    \n",
    "            if hour_idx % (24 * 7) == 24 * 7 - 1:\n",
    "                print(\"    test hour\", hour_idx, \"test day\", hour_idx // 24, \n",
    "                      \"    cost\", eval_policy(u_MFMPC[repeat_idx, 0: hour_idx + 1, batch_size_idx]), \n",
    "                      \"    time elasped =\", time.time() - t_begin)\n",
    "\n",
    "        policy_eval_batch = eval_policy(u_MFMPC[repeat_idx, :, batch_size_idx])\n",
    "        time_MFMPC[repeat_idx, batch_size_idx] = time.time() - t_begin\n",
    "        print(\"  batch size idx\", batch_size_idx, \"batch policy cost =\", policy_eval_batch, \n",
    "              \"runtime =\", time.time() - t_begin)"
   ]
  },
  {
   "cell_type": "markdown",
   "id": "7184e72f",
   "metadata": {},
   "source": [
    "# run IP-MPC"
   ]
  },
  {
   "cell_type": "code",
   "execution_count": 24,
   "id": "e402b2b3",
   "metadata": {},
   "outputs": [],
   "source": [
    "max_iters = [1, 2, 4, 8, 16, 32]\n",
    "u_IP = np.zeros((repeat_times, test_hours, len(batch_sizes)))\n",
    "time_IP = np.zeros((repeat_times, len(batch_sizes)))"
   ]
  },
  {
   "cell_type": "code",
   "execution_count": 25,
   "id": "86e8f65e",
   "metadata": {},
   "outputs": [
    {
     "name": "stdout",
     "output_type": "stream",
     "text": [
      "repeat idx 0\n",
      "  max iter = 1\n",
      "    test hour 167   test day 6   cost -50.11431427962799   time elasped 11.189483880996704\n",
      "    test hour 335   test day 13   cost -40.49897372730418   time elasped 22.643099784851074\n",
      "    test hour 503   test day 20   cost -40.56319878880604   time elasped 33.88405990600586\n",
      "    test hour 671   test day 27   cost -41.02637751734757   time elasped 45.18189477920532\n",
      "    test hour 839   test day 34   cost -42.88239395924212   time elasped 56.556654930114746\n",
      "    test hour 1007   test day 41   cost -41.234320063433735   time elasped 68.64047980308533\n",
      "    test hour 1175   test day 48   cost -40.67190006765642   time elasped 80.75840497016907\n",
      "    test hour 1343   test day 55   cost -38.824500060571175   time elasped 92.84649991989136\n",
      "  max iter = 1  policy cost = -38.824500060571175 runtime = 92.84708595275879\n",
      "  max iter = 2\n",
      "    test hour 167   test day 6   cost -51.605587364016   time elasped 31.20160484313965\n",
      "    test hour 335   test day 13   cost -41.92079365045466   time elasped 62.30382490158081\n",
      "    test hour 503   test day 20   cost -41.42045120894532   time elasped 91.28627610206604\n",
      "    test hour 671   test day 27   cost -41.75438995086706   time elasped 120.69037199020386\n",
      "    test hour 839   test day 34   cost -44.403095654030245   time elasped 150.02493381500244\n",
      "    test hour 1007   test day 41   cost -42.38826768020792   time elasped 179.58921790122986\n",
      "    test hour 1175   test day 48   cost -41.503000846214036   time elasped 209.2133288383484\n",
      "    test hour 1343   test day 55   cost -39.59761175452837   time elasped 239.56017589569092\n",
      "  max iter = 2  policy cost = -39.59761175452837 runtime = 239.56049585342407\n",
      "  max iter = 4\n",
      "    test hour 167   test day 6   cost -49.2687546918042   time elasped 37.935386180877686\n",
      "    test hour 335   test day 13   cost -40.34123153235088   time elasped 76.19671320915222\n",
      "    test hour 503   test day 20   cost -39.93395182742035   time elasped 114.44968724250793\n",
      "    test hour 671   test day 27   cost -41.97763144900786   time elasped 152.76599502563477\n",
      "    test hour 839   test day 34   cost -44.206102815583776   time elasped 190.9942011833191\n",
      "    test hour 1007   test day 41   cost -42.33698936266435   time elasped 229.63620710372925\n",
      "    test hour 1175   test day 48   cost -41.443352344716764   time elasped 267.7626881599426\n",
      "    test hour 1343   test day 55   cost -39.714153179261345   time elasped 306.134966135025\n",
      "  max iter = 4  policy cost = -39.714153179261345 runtime = 306.13526606559753\n",
      "  max iter = 8\n",
      "    test hour 167   test day 6   cost -50.985142924413125   time elasped 54.412214040756226\n",
      "    test hour 335   test day 13   cost -41.19478078013408   time elasped 108.7991271018982\n",
      "    test hour 503   test day 20   cost -40.74517011234946   time elasped 162.2499282360077\n",
      "    test hour 671   test day 27   cost -43.09299964687847   time elasped 215.98350429534912\n",
      "    test hour 839   test day 34   cost -45.588117253696204   time elasped 269.198881149292\n",
      "    test hour 1007   test day 41   cost -43.31474979974128   time elasped 321.7938041687012\n",
      "    test hour 1175   test day 48   cost -42.5840689898736   time elasped 374.205518245697\n",
      "    test hour 1343   test day 55   cost -40.580276376943615   time elasped 428.3502552509308\n",
      "  max iter = 8  policy cost = -40.580276376943615 runtime = 428.35070419311523\n",
      "  max iter = 16\n",
      "    test hour 167   test day 6   cost -52.12716324350464   time elasped 85.32935094833374\n",
      "    test hour 335   test day 13   cost -41.37078246287943   time elasped 168.43829703330994\n",
      "    test hour 503   test day 20   cost -40.85486952877576   time elasped 253.68542909622192\n",
      "    test hour 671   test day 27   cost -44.25276543624371   time elasped 338.3125011920929\n",
      "    test hour 839   test day 34   cost -46.58879309096934   time elasped 422.78443813323975\n",
      "    test hour 1007   test day 41   cost -44.323452886299016   time elasped 508.1193940639496\n",
      "    test hour 1175   test day 48   cost -43.184919146551046   time elasped 593.4140319824219\n",
      "    test hour 1343   test day 55   cost -41.235544654780384   time elasped 677.5568630695343\n",
      "  max iter = 16  policy cost = -41.235544654780384 runtime = 677.557051897049\n",
      "  max iter = 32\n",
      "    test hour 167   test day 6   cost -51.39260990946335   time elasped 146.37703776359558\n",
      "    test hour 335   test day 13   cost -41.52793903319401   time elasped 290.33126878738403\n",
      "    test hour 503   test day 20   cost -41.267472551915766   time elasped 438.63547682762146\n",
      "    test hour 671   test day 27   cost -44.20675795787976   time elasped 590.2655749320984\n",
      "    test hour 839   test day 34   cost -46.55278840674955   time elasped 742.7072458267212\n",
      "    test hour 1007   test day 41   cost -44.176440809099745   time elasped 896.6773767471313\n",
      "    test hour 1175   test day 48   cost -43.14673350871304   time elasped 1050.6760437488556\n",
      "    test hour 1343   test day 55   cost -41.26482342402997   time elasped 1201.0899379253387\n",
      "  max iter = 32  policy cost = -41.26482342402997 runtime = 1201.0901777744293\n"
     ]
    }
   ],
   "source": [
    "for repeat_idx in range(repeat_times):\n",
    "    print(\"repeat idx\", repeat_idx)\n",
    "    for max_iter_idx in range(len(max_iters)):\n",
    "        max_iter = max_iters[max_iter_idx]\n",
    "        print(\"  max iter =\", max_iter)\n",
    "        q_t = q_0\n",
    "        t_begin = time.time()\n",
    "        for t in range(train_hours, train_hours + test_hours):\n",
    "            hour_idx = t - train_hours\n",
    "            # forecast\n",
    "            forecast_signal = forecast_signals[:, hour_idx]\n",
    "            forecast_price = np.exp(np.exp(forecast_signal))\n",
    "\n",
    "            forecast_error_normal_samples = scenario_samples[repeat_idx, t % (24 * 7), 0: 20 * max_iter, :]\n",
    "            normal_samples = np.exp(np.exp(forecast_signal[None, :] + forecast_error_normal_samples).T)\n",
    "        \n",
    "            # set q_tau\n",
    "            if hour_idx > 0:\n",
    "                q_t += u_IP[repeat_idx, hour_idx - 1, max_iter_idx]    \n",
    "        \n",
    "            # call IP-MPC solver\n",
    "            u_IP[repeat_idx, hour_idx, max_iter_idx] = incre_prox_alg(t, q_t, normal_samples, forecast_price, \n",
    "                                                                      u_max, Q, c=7, max_iter=max_iter, \n",
    "                                                                      use_MPC_init=True, minibatch_size=20, \n",
    "                                                                      verbose=False)\n",
    "        \n",
    "            if hour_idx % (24 * 7) == 24 * 7 - 1:\n",
    "                print(\"    test hour\", hour_idx, \"  test day\", hour_idx // 24, \n",
    "                      \"  cost\", eval_policy(u_IP[repeat_idx, 0: hour_idx + 1, max_iter_idx]),\n",
    "                      \"  time elasped\", time.time() - t_begin)\n",
    "\n",
    "        time_IP[repeat_idx, max_iter_idx] = time.time() - t_begin\n",
    "        print(\"  max iter =\", max_iter, \" policy cost =\", eval_policy(u_IP[repeat_idx, :, max_iter_idx]), \n",
    "              \"runtime =\", time.time() - t_begin)"
   ]
  },
  {
   "cell_type": "markdown",
   "id": "605b0fa3",
   "metadata": {},
   "source": [
    "# plot result"
   ]
  },
  {
   "cell_type": "code",
   "execution_count": 17,
   "id": "b59e5507",
   "metadata": {},
   "outputs": [],
   "source": [
    "# u_IP = np.load(\"results/u_IP.npy\")\n",
    "# u_MFMPC = np.load(\"results/u_MFMPC.npy\")"
   ]
  },
  {
   "cell_type": "code",
   "execution_count": 26,
   "id": "7344d8d2",
   "metadata": {},
   "outputs": [],
   "source": [
    "policy_eval_IP = np.zeros((repeat_times, len(batch_sizes)))\n",
    "for repeat_idx in range(repeat_times):\n",
    "    for batch_size_idx in range(0, len(batch_sizes)):\n",
    "        policy_eval_IP[repeat_idx, batch_size_idx] = eval_policy(u_IP[repeat_idx, :, batch_size_idx])"
   ]
  },
  {
   "cell_type": "code",
   "execution_count": 27,
   "id": "3f2c701f",
   "metadata": {},
   "outputs": [],
   "source": [
    "policy_eval_MFMPC = np.zeros((repeat_times, len(batch_sizes)))\n",
    "for repeat_idx in range(repeat_times):\n",
    "    for batch_size_idx in range(0, len(batch_sizes)):\n",
    "        policy_eval_MFMPC[repeat_idx, batch_size_idx] = eval_policy(u_MFMPC[repeat_idx, :, batch_size_idx])"
   ]
  },
  {
   "cell_type": "code",
   "execution_count": 28,
   "id": "03f36d59",
   "metadata": {},
   "outputs": [
    {
     "data": {
      "text/plain": [
       "<matplotlib.legend.Legend at 0x7fb4ad3bf3d0>"
      ]
     },
     "execution_count": 28,
     "metadata": {},
     "output_type": "execute_result"
    },
    {
     "data": {
      "image/png": "[encoded data removed]",
      "text/plain": [
       "<Figure size 576x288 with 1 Axes>"
      ]
     },
     "metadata": {
      "needs_background": "light"
     },
     "output_type": "display_data"
    }
   ],
   "source": [
    "plt.figure(figsize=(8, 4))\n",
    "\n",
    "plt.plot([0] + list(batch_sizes), [policy_eval_MPC] + list(np.mean(policy_eval_IP, axis=0)), label=\"IP-MPC\")       \n",
    "plt.plot([0] + list(batch_sizes), [policy_eval_MPC] + list(np.mean(policy_eval_MFMPC, axis=0)), \"-.\", label=\"MF-MPC\")\n",
    "plt.plot([0] + list(batch_sizes), policy_eval_MPC * np.ones(len(batch_sizes) + 1), \"--\", label=\"MPC\")\n",
    "\n",
    "plt.xlabel(r\"$S$\")\n",
    "plt.ylabel(\"cost of policy\")\n",
    "plt.legend()\n",
    "\n",
    "# plt.savefig(\"policy_cost_8weeks_10repeats.pdf\")"
   ]
  },
  {
   "cell_type": "code",
   "execution_count": null,
   "id": "dad05e3f",
   "metadata": {},
   "outputs": [],
   "source": []
  }
 ],
 "metadata": {
  "kernelspec": {
   "display_name": "Python 3",
   "language": "python",
   "name": "python3"
  },
  "language_info": {
   "codemirror_mode": {
    "name": "ipython",
    "version": 3
   },
   "file_extension": ".py",
   "mimetype": "text/x-python",
   "name": "python",
   "nbconvert_exporter": "python",
   "pygments_lexer": "ipython3",
   "version": "3.7.6"
  }
 },
 "nbformat": 4,
 "nbformat_minor": 5
}
